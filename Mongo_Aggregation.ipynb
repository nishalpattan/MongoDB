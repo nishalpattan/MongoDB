{
 "cells": [
  {
   "cell_type": "code",
   "execution_count": 3,
   "metadata": {},
   "outputs": [],
   "source": [
    "from pymongo import MongoClient"
   ]
  },
  {
   "cell_type": "code",
   "execution_count": 4,
   "metadata": {},
   "outputs": [],
   "source": [
    "client = MongoClient()\n",
    "db = client.aggregation\n",
    "insert_docs = db.docs.insert_many([\n",
    "    {\"x\": 1, \"tags\": [\"dog\", \"cat\"]},\n",
    "    {\"x\": 2, \"tags\": [\"cat\"]},\n",
    "    {\"x\": 2, \"tags\": [\"mouse\", \"cat\", \"dog\"]},\n",
    "    {\"x\": 3, \"tags\": []}])"
   ]
  },
  {
   "cell_type": "code",
   "execution_count": 5,
   "metadata": {},
   "outputs": [
    {
     "data": {
      "text/plain": [
       "[ObjectId('5a52e925b6c97a381010273a'),\n",
       " ObjectId('5a52e925b6c97a381010273b'),\n",
       " ObjectId('5a52e925b6c97a381010273c'),\n",
       " ObjectId('5a52e925b6c97a381010273d')]"
      ]
     },
     "execution_count": 5,
     "metadata": {},
     "output_type": "execute_result"
    }
   ],
   "source": [
    "insert_docs.inserted_ids"
   ]
  },
  {
   "cell_type": "code",
   "execution_count": 6,
   "metadata": {},
   "outputs": [
    {
     "name": "stdout",
     "output_type": "stream",
     "text": [
      "[{'_id': 'cat', 'count': 12},\n",
      " {'_id': 'mouse', 'count': 4},\n",
      " {'_id': 'dog', 'count': 8}]\n"
     ]
    }
   ],
   "source": [
    "from bson.son import SON\n",
    "import pprint\n",
    "pipeline = [\n",
    "    {\"$unwind\":\"$tags\"},\n",
    "    {\"$group\":{\"_id\":\"$tags\",\"count\":{'$sum':1}}},\n",
    "    #{\"$sort\": SON([(\"count\", -1), (\"_id\", -1)])}\n",
    "]\n",
    "#aggregate to group by the tag and its count in overall, say how many times 'dog' occured in the doc\n",
    "pprint.pprint(list(db.docs.aggregate(pipeline)))"
   ]
  },
  {
   "cell_type": "code",
   "execution_count": 7,
   "metadata": {},
   "outputs": [
    {
     "name": "stdout",
     "output_type": "stream",
     "text": [
      "{'_id': ObjectId('5a5120f5b6c97a3648389a69'), 'tags': ['dog', 'cat'], 'x': 1}\n",
      "{'_id': ObjectId('5a5120f5b6c97a3648389a6a'), 'tags': ['cat'], 'x': 2}\n",
      "{'_id': ObjectId('5a5120f5b6c97a3648389a6b'),\n",
      " 'tags': ['mouse', 'cat', 'dog'],\n",
      " 'x': 2}\n",
      "{'_id': ObjectId('5a5120f5b6c97a3648389a6c'), 'tags': [], 'x': 3}\n",
      "{'_id': ObjectId('5a512395b6c97a3648389a6e'), 'tags': ['dog', 'cat'], 'x': 1}\n",
      "{'_id': ObjectId('5a512395b6c97a3648389a6f'), 'tags': ['cat'], 'x': 2}\n",
      "{'_id': ObjectId('5a512395b6c97a3648389a70'),\n",
      " 'tags': ['mouse', 'cat', 'dog'],\n",
      " 'x': 2}\n",
      "{'_id': ObjectId('5a512395b6c97a3648389a71'), 'tags': [], 'x': 3}\n",
      "{'_id': ObjectId('5a51239fb6c97a3648389a73'), 'tags': ['dog', 'cat'], 'x': 1}\n",
      "{'_id': ObjectId('5a51239fb6c97a3648389a74'), 'tags': ['cat'], 'x': 2}\n",
      "{'_id': ObjectId('5a51239fb6c97a3648389a75'),\n",
      " 'tags': ['mouse', 'cat', 'dog'],\n",
      " 'x': 2}\n",
      "{'_id': ObjectId('5a51239fb6c97a3648389a76'), 'tags': [], 'x': 3}\n",
      "{'_id': ObjectId('5a52e925b6c97a381010273a'), 'tags': ['dog', 'cat'], 'x': 1}\n",
      "{'_id': ObjectId('5a52e925b6c97a381010273b'), 'tags': ['cat'], 'x': 2}\n",
      "{'_id': ObjectId('5a52e925b6c97a381010273c'),\n",
      " 'tags': ['mouse', 'cat', 'dog'],\n",
      " 'x': 2}\n",
      "{'_id': ObjectId('5a52e925b6c97a381010273d'), 'tags': [], 'x': 3}\n"
     ]
    }
   ],
   "source": [
    "for a in db.docs.find():\n",
    "    pprint.pprint(a)"
   ]
  },
  {
   "cell_type": "markdown",
   "metadata": {},
   "source": [
    "### MAP/REDUCE"
   ]
  },
  {
   "cell_type": "code",
   "execution_count": 11,
   "metadata": {},
   "outputs": [],
   "source": [
    "from bson.code import Code\n",
    "#defining map function using Code function in java script for MongoDB\n",
    "mapper = Code(\"\"\"\n",
    "              function () {\n",
    "                this.tags.forEach(function(z) {\n",
    "                  emit(z, 1);\n",
    "                 });\n",
    "               }\n",
    "             \"\"\")\n",
    "\n",
    "reducer = Code(\"\"\"\n",
    "               function(key,values){\n",
    "                   var total = 0;\n",
    "                   for (var i = 0; i < values.length; i++) {\n",
    "                       total += values[i];\n",
    "                   }\n",
    "                   return total;\n",
    "               }\n",
    "               \"\"\")"
   ]
  },
  {
   "cell_type": "code",
   "execution_count": 12,
   "metadata": {},
   "outputs": [],
   "source": [
    "result = db.docs.map_reduce(mapper,reducer,'myresults')"
   ]
  },
  {
   "cell_type": "code",
   "execution_count": 13,
   "metadata": {},
   "outputs": [
    {
     "name": "stdout",
     "output_type": "stream",
     "text": [
      "{'_id': 'cat', 'value': 12.0}\n",
      "{'_id': 'dog', 'value': 8.0}\n",
      "{'_id': 'mouse', 'value': 4.0}\n"
     ]
    }
   ],
   "source": [
    "for doc in result.find():\n",
    "    pprint.pprint(doc)"
   ]
  },
  {
   "cell_type": "code",
   "execution_count": 14,
   "metadata": {},
   "outputs": [
    {
     "name": "stdout",
     "output_type": "stream",
     "text": [
      "{'counts': {'emit': 24, 'input': 16, 'output': 3, 'reduce': 3},\n",
      " 'ok': 1.0,\n",
      " 'result': 'myresults',\n",
      " 'timeMillis': 36}\n"
     ]
    }
   ],
   "source": [
    "pprint.pprint(db.docs.map_reduce(mapper,reducer,'myresults',full_response=True))"
   ]
  },
  {
   "cell_type": "code",
   "execution_count": null,
   "metadata": {},
   "outputs": [],
   "source": []
  }
 ],
 "metadata": {
  "kernelspec": {
   "display_name": "Python 3",
   "language": "python",
   "name": "python3"
  },
  "language_info": {
   "codemirror_mode": {
    "name": "ipython",
    "version": 3
   },
   "file_extension": ".py",
   "mimetype": "text/x-python",
   "name": "python",
   "nbconvert_exporter": "python",
   "pygments_lexer": "ipython3",
   "version": "3.6.3"
  }
 },
 "nbformat": 4,
 "nbformat_minor": 2
}
