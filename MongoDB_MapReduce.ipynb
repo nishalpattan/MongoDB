{
 "cells": [
  {
   "cell_type": "raw",
   "metadata": {},
   "source": [
    "This Python Programm is about creating documents in json format(here list of dictionaries) and inserting them to MongoDB\n",
    "On inserted documents(Sharks onservations) query is applied to fetch all observations that belong to \"Carcharias taurus\" species.\n",
    "After that MapReduce is performed to aggregate the documents to present monthly based report on number of sharks observed."
   ]
  },
  {
   "cell_type": "code",
   "execution_count": 2,
   "metadata": {},
   "outputs": [],
   "source": [
    "from pymongo import MongoClient\n",
    "client = MongoClient()   #Connect to MongoDB client"
   ]
  },
  {
   "cell_type": "code",
   "execution_count": 5,
   "metadata": {},
   "outputs": [],
   "source": [
    "db = client.mapreduce #database initializing\n",
    "#insert observations to database\n",
    "insert_observations = db.observations.insert_many([\n",
    "    {\n",
    "    #observationTimestamp: Date.parse(\"Mon, 25 Dec 1995 12:34:56 GMT\"),\n",
    "    \"month\" : 12,\n",
    "    \"year\" : 1995,\n",
    "    \"Time\" : \"12:34:56 GMT\",\n",
    "     \"Date\" : 25,\n",
    "    \"family\":     \"Sharks\",\n",
    "    \"species\":    \"Carcharodon carcharias\",\n",
    "    \"numAnimals\": 3\n",
    "    },\n",
    "    {\n",
    "    #observationTimestamp: Date.parse(\"Tue, 12 Dec 1995 16:17:18 GMT\"),\n",
    "    \"month\" : 12,\n",
    "    \"year\" : 1995,\n",
    "    \"Time\" : \"16:17:18 GMT\",\n",
    "     \"Date\" : 12,\n",
    "    \"family\":     \"Sharks\",\n",
    "    \"species\":    \"Carcharias taurus\",\n",
    "    \"numAnimals\": 4\n",
    "    }    \n",
    "]       \n",
    ")    \n"
   ]
  },
  {
   "cell_type": "code",
   "execution_count": 7,
   "metadata": {},
   "outputs": [
    {
     "data": {
      "text/plain": [
       "[ObjectId('5a5eca0bb6c97a36d44a768f'), ObjectId('5a5eca0bb6c97a36d44a7690')]"
      ]
     },
     "execution_count": 7,
     "metadata": {},
     "output_type": "execute_result"
    }
   ],
   "source": [
    "insert_observations.inserted_ids #two documents/observations are inserted in to database"
   ]
  },
  {
   "cell_type": "markdown",
   "metadata": {},
   "source": [
    "#### How many Carcharias taurus have been found?"
   ]
  },
  {
   "cell_type": "code",
   "execution_count": 26,
   "metadata": {},
   "outputs": [
    {
     "name": "stdout",
     "output_type": "stream",
     "text": [
      "{'Date': 12,\n",
      " 'Time': '16:17:18 GMT',\n",
      " '_id': ObjectId('5a5eca0bb6c97a36d44a7690'),\n",
      " 'family': 'Sharks',\n",
      " 'month': 12,\n",
      " 'numAnimals': 4,\n",
      " 'species': 'Carcharias taurus',\n",
      " 'year': 1995}\n",
      "Number of Observations with Carcharias taurus species found are :  1\n"
     ]
    }
   ],
   "source": [
    "count = 0\n",
    "for a in db.observations.find({'species':'Carcharias taurus'}):\n",
    "    count+=1\n",
    "    pprint.pprint(a)\n",
    "print(\"Number of Observations with Carcharias taurus species found are : \",count)"
   ]
  },
  {
   "cell_type": "markdown",
   "metadata": {},
   "source": [
    "### Map Reduce"
   ]
  },
  {
   "cell_type": "code",
   "execution_count": 9,
   "metadata": {},
   "outputs": [],
   "source": [
    "from bson.code import Code\n",
    "#defining map function using Code function in  java script syntax for MongoDB"
   ]
  },
  {
   "cell_type": "markdown",
   "metadata": {},
   "source": [
    "#### Mapper"
   ]
  },
  {
   "cell_type": "code",
   "execution_count": 14,
   "metadata": {},
   "outputs": [],
   "source": [
    "mapper = Code(\"\"\"\n",
    "              function () {\n",
    "                var year = this.year;\n",
    "                var month = this.month;\n",
    "                emit(year + \"-\" + month, this.numAnimals);\n",
    "               }\n",
    "             \"\"\")"
   ]
  },
  {
   "cell_type": "markdown",
   "metadata": {},
   "source": [
    "#### Reducer"
   ]
  },
  {
   "cell_type": "code",
   "execution_count": 15,
   "metadata": {},
   "outputs": [],
   "source": [
    "reducer = Code(\"\"\"\n",
    "               function(key,values){\n",
    "                   return Array.sum(values);\n",
    "               }\n",
    "               \"\"\")"
   ]
  },
  {
   "cell_type": "code",
   "execution_count": 16,
   "metadata": {},
   "outputs": [],
   "source": [
    "# Execute Map-Reduce function\n",
    "result = db.observations.map_reduce(mapper,reducer,'monthlySharkReport')"
   ]
  },
  {
   "cell_type": "code",
   "execution_count": 17,
   "metadata": {},
   "outputs": [
    {
     "name": "stdout",
     "output_type": "stream",
     "text": [
      "{'_id': '1995-12', 'value': 7.0}\n"
     ]
    }
   ],
   "source": [
    "import pprint\n",
    "for observation in result.find():\n",
    "    pprint.pprint(observation)"
   ]
  },
  {
   "cell_type": "code",
   "execution_count": null,
   "metadata": {},
   "outputs": [],
   "source": []
  }
 ],
 "metadata": {
  "kernelspec": {
   "display_name": "Python 3",
   "language": "python",
   "name": "python3"
  },
  "language_info": {
   "codemirror_mode": {
    "name": "ipython",
    "version": 3
   },
   "file_extension": ".py",
   "mimetype": "text/x-python",
   "name": "python",
   "nbconvert_exporter": "python",
   "pygments_lexer": "ipython3",
   "version": "3.6.3"
  }
 },
 "nbformat": 4,
 "nbformat_minor": 2
}
